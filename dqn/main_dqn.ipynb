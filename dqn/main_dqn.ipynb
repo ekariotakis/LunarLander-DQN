{
 "cells": [
  {
   "cell_type": "markdown",
   "metadata": {
    "id": "-I6SxcDKukAW"
   },
   "source": [
    "# Import Packages"
   ]
  },
  {
   "cell_type": "code",
   "execution_count": 1,
   "metadata": {
    "id": "7ghl6X2muL4b"
   },
   "outputs": [],
   "source": [
    "import gym\n",
    "import random\n",
    "import torch\n",
    "import numpy as np\n",
    "from collections import deque\n",
    "import matplotlib.pyplot as plt\n",
    "import os\n",
    "from torch.utils.tensorboard import SummaryWriter\n",
    "from datetime import datetime\n",
    "%matplotlib inline \n",
    "# to plot figures in cells of notebook"
   ]
  },
  {
   "cell_type": "markdown",
   "metadata": {
    "id": "MH9x0cf_vbbD"
   },
   "source": [
    "# Initialize Environment"
   ]
  },
  {
   "cell_type": "code",
   "execution_count": 2,
   "metadata": {
    "colab": {
     "base_uri": "https://localhost:8080/"
    },
    "executionInfo": {
     "elapsed": 3153,
     "status": "ok",
     "timestamp": 1645310111548,
     "user": {
      "displayName": "Manolis K",
      "photoUrl": "https://lh3.googleusercontent.com/a-/AOh14GhUq1PfrJcNlYu-8TZgOfP1HkW_7_gZUzpai4KYIQ=s64",
      "userId": "05644785452644574554"
     },
     "user_tz": -120
    },
    "id": "bkLD1CRMutoz",
    "outputId": "7fbad9f0-de5d-4b7f-e957-9d9b90aae0ec"
   },
   "outputs": [
    {
     "name": "stdout",
     "output_type": "stream",
     "text": [
      "State shape:  (8,)\n",
      "Number of actions:  4\n"
     ]
    }
   ],
   "source": [
    "date = datetime.now().strftime(\"%Y_%m_%d-%I:%M:%S_%p\")\n",
    "\n",
    "models_dir = f\"models/{date}\"\n",
    "logdir = f\"logs/{date}\"\n",
    "\n",
    "if not os.path.exists(models_dir):\n",
    "    os.makedirs(models_dir)\n",
    "\n",
    "if not os.path.exists(logdir):\n",
    "    os.makedirs(logdir)\n",
    "\n",
    "writer = SummaryWriter(log_dir=logdir)\n",
    "\n",
    "env = gym.make('LunarLander-v2')\n",
    "env.seed(0)\n",
    "print('State shape: ', env.observation_space.shape)\n",
    "print('Number of actions: ', env.action_space.n)"
   ]
  },
  {
   "cell_type": "markdown",
   "metadata": {
    "id": "TQbIOWMSXWUZ"
   },
   "source": [
    "# Initialize Agent"
   ]
  },
  {
   "cell_type": "code",
   "execution_count": 3,
   "metadata": {
    "id": "6kypnyj2OMIa"
   },
   "outputs": [],
   "source": [
    "from dqn_agent import Agent\n",
    "\n",
    "agent = Agent(state_size=8, action_size=4, seed=0)\n",
    "\n",
    "# watch an untrained agent\n",
    "state = env.reset()\n",
    "for j in range(200):\n",
    "    action = agent.act(state)\n",
    "    env.render()\n",
    "    state, reward, done, _ = env.step(action)\n",
    "    if done:\n",
    "        break \n",
    "        \n",
    "env.close()\n",
    "# torch.save(agent.qnet_local.state_dict(), 'checkpoint1.pth')"
   ]
  },
  {
   "cell_type": "markdown",
   "metadata": {
    "id": "GK3l8CtcXft7"
   },
   "source": [
    "# Train Agent"
   ]
  },
  {
   "cell_type": "code",
   "execution_count": 4,
   "metadata": {
    "id": "4TH0Av7EXjEU"
   },
   "outputs": [],
   "source": [
    "def dqn(writer, n_episodes=3000, max_t=1000, eps_start=1.0, eps_end=0.01, eps_decay=0.995, score_to_achive=300.0):\n",
    "  \"\"\"Deep Q-Learning.\n",
    "  Params\n",
    "  ======\n",
    "      n_episodes (int): maximum number of training episodes\n",
    "      max_t (int): maximum number of timesteps per episode\n",
    "      eps_start (float): starting value of epsilon, for epsilon-greedy action selection\n",
    "      eps_end (float): minimum value of epsilon\n",
    "      eps_decay (float): multiplicative factor (per episode) for decreasing epsilon\n",
    "  \"\"\"\n",
    "  scores = []                        # list containing scores from each episode\n",
    "  scores_window = deque(maxlen=100)  # last 100 scores\n",
    "  eps = eps_start                    # initialize epsilon\n",
    "  for i_episode in range(1, n_episodes+1):\n",
    "      state = env.reset()\n",
    "      score = 0\n",
    "      for t in range(max_t):\n",
    "          action = agent.act(state, eps)\n",
    "          next_state, reward, done, _ = env.step(action)\n",
    "          agent.step(state, action, reward, next_state, done)\n",
    "          state = next_state\n",
    "          score += reward\n",
    "          if done:\n",
    "              break \n",
    "      scores_window.append(score)       # save most recent score\n",
    "      scores.append(score)              # save most recent score\n",
    "      eps = max(eps_end, eps_decay*eps) # decrease epsilon\n",
    "      print('\\rEpisode {}\\tAverage Score: {:.2f}'.format(i_episode, np.mean(scores_window)), end=\"\")\n",
    "      if i_episode % 100 == 0:\n",
    "          print('\\rEpisode {}\\tAverage Score: {:.2f}'.format(i_episode, np.mean(scores_window)))\n",
    "          torch.save(agent.qnet_local.state_dict(), f\"{models_dir}/{i_episode}.pth\")\n",
    "      writer.add_scalar(\"Score/train\", score, i_episode)\n",
    "      if np.mean(scores_window)>=score_to_achive:\n",
    "          print('\\nEnvironment solved in {:d} episodes!\\tAverage Score: {:.2f}'.format(i_episode-100, np.mean(scores_window)))\n",
    "          torch.save(agent.qnet_local.state_dict(), 'checkpoint.pth')\n",
    "          break\n",
    "  return scores"
   ]
  },
  {
   "cell_type": "code",
   "execution_count": 5,
   "metadata": {
    "colab": {
     "base_uri": "https://localhost:8080/",
     "height": 297
    },
    "executionInfo": {
     "elapsed": 13686,
     "status": "ok",
     "timestamp": 1645312016429,
     "user": {
      "displayName": "Manolis K",
      "photoUrl": "https://lh3.googleusercontent.com/a-/AOh14GhUq1PfrJcNlYu-8TZgOfP1HkW_7_gZUzpai4KYIQ=s64",
      "userId": "05644785452644574554"
     },
     "user_tz": -120
    },
    "id": "SbHRwmNeYg7u",
    "outputId": "ad017446-a957-44f3-8600-f0a63e332f72",
    "tags": []
   },
   "outputs": [
    {
     "name": "stdout",
     "output_type": "stream",
     "text": [
      "Episode 100\tAverage Score: -174.91\n",
      "Episode 200\tAverage Score: -102.34\n",
      "Episode 300\tAverage Score: -103.16\n",
      "Episode 400\tAverage Score: -18.417\n",
      "Episode 500\tAverage Score: -8.894\n",
      "Episode 600\tAverage Score: 54.32\n",
      "Episode 700\tAverage Score: 137.66\n",
      "Episode 800\tAverage Score: 147.53\n",
      "Episode 900\tAverage Score: 153.91\n",
      "Episode 1000\tAverage Score: 141.56\n",
      "Episode 1100\tAverage Score: 149.50\n",
      "Episode 1200\tAverage Score: 201.11\n",
      "Episode 1300\tAverage Score: 232.01\n",
      "Episode 1400\tAverage Score: 225.87\n",
      "Episode 1500\tAverage Score: 228.98\n",
      "Episode 1600\tAverage Score: 241.85\n",
      "Episode 1700\tAverage Score: 241.98\n",
      "Episode 1800\tAverage Score: 261.81\n",
      "Episode 1900\tAverage Score: 258.25\n",
      "Episode 2000\tAverage Score: 259.81\n",
      "Episode 2100\tAverage Score: 257.86\n",
      "Episode 2200\tAverage Score: 262.37\n",
      "Episode 2300\tAverage Score: 258.74\n",
      "Episode 2400\tAverage Score: 248.94\n",
      "Episode 2500\tAverage Score: 270.26\n",
      "Episode 2600\tAverage Score: 270.46\n",
      "Episode 2700\tAverage Score: 265.22\n",
      "Episode 2800\tAverage Score: 253.64\n",
      "Episode 2900\tAverage Score: 244.53\n",
      "Episode 3000\tAverage Score: 261.24\n"
     ]
    },
    {
     "data": {
      "image/png": "[encoded data removed]",
      "text/plain": [
       "<Figure size 432x288 with 1 Axes>"
      ]
     },
     "metadata": {
      "needs_background": "light"
     },
     "output_type": "display_data"
    }
   ],
   "source": [
    "scores = dqn(writer=writer)\n",
    "writer.flush()\n",
    "writer.close()\n",
    "# plot the scores\n",
    "fig = plt.figure()\n",
    "ax = fig.add_subplot(111)\n",
    "plt.plot(np.arange(len(scores)), scores)\n",
    "plt.ylabel('Score')\n",
    "plt.xlabel('Episode #')\n",
    "plt.show()"
   ]
  },
  {
   "cell_type": "markdown",
   "metadata": {
    "id": "7RdRaFiMEzcf"
   },
   "source": [
    "# Run Tensorboard"
   ]
  },
  {
   "cell_type": "code",
   "execution_count": 7,
   "metadata": {
    "id": "Grz6A4RoGTAo"
   },
   "outputs": [],
   "source": [
    "%load_ext tensorboard"
   ]
  },
  {
   "cell_type": "code",
   "execution_count": null,
   "metadata": {
    "id": "VIlpb36OE3zA",
    "tags": []
   },
   "outputs": [],
   "source": [
    "%tensorboard --logdir=logs"
   ]
  },
  {
   "cell_type": "markdown",
   "metadata": {
    "id": "wc8ETQxjbavg",
    "tags": []
   },
   "source": [
    "# Visualization"
   ]
  },
  {
   "cell_type": "code",
   "execution_count": 6,
   "metadata": {},
   "outputs": [],
   "source": [
    "from dqn_agent import Agent\n",
    "env = gym.make('LunarLander-v2')\n",
    "env.seed(0)\n",
    "agent = Agent(state_size=8, action_size=4, seed=0)\n",
    "# load the weights from file\n",
    "agent.qnet_local.load_state_dict(torch.load(f'{models_dir}/3000.pth', map_location=torch.device('cpu')))\n",
    "# agent.qnet_local.load_state_dict(torch.load('models/2022_02_22-02:28:23_PM/2400.pth', map_location=torch.device('cpu')))\n",
    "\n",
    "for i in range(3):\n",
    "    state = env.reset()\n",
    "    for j in range(400):\n",
    "        action = agent.act(state)\n",
    "        env.render()\n",
    "        state, reward, done, _ = env.step(action)\n",
    "        if done:\n",
    "            break \n",
    "            \n",
    "env.close()"
   ]
  }
 ],
 "metadata": {
  "accelerator": "GPU",
  "colab": {
   "authorship_tag": "ABX9TyPlKHelATttgiP47RtwnC4n",
   "collapsed_sections": [],
   "mount_file_id": "1U_uavlbusiUTtut-Ys3yg1RLnqFXXH6Q",
   "name": "lander-dqn",
   "provenance": []
  },
  "kernelspec": {
   "display_name": "Python 3 (ipykernel)",
   "language": "python",
   "name": "python3"
  },
  "language_info": {
   "codemirror_mode": {
    "name": "ipython",
    "version": 3
   },
   "file_extension": ".py",
   "mimetype": "text/x-python",
   "name": "python",
   "nbconvert_exporter": "python",
   "pygments_lexer": "ipython3",
   "version": "3.9.10"
  }
 },
 "nbformat": 4,
 "nbformat_minor": 4
}
